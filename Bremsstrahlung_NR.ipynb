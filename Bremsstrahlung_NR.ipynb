{
 "cells": [
  {
   "cell_type": "markdown",
   "id": "d414d2cc",
   "metadata": {},
   "source": [
    "<h1 style=\"font-size:3rem;color:orange;\">Bremsstrahlung non relativistic cross-section</h1>"
   ]
  },
  {
   "cell_type": "markdown",
   "id": "a68c3e8f",
   "metadata": {},
   "source": [
    "$\\mathbf{LOG BOOK:}$\n",
    "\n",
    "[x] Understanding r_max role\n",
    "\n",
    "[x] Recovering r_max plot\n",
    "\n",
    "    - [x] solving the problem with copper density\n",
    "    \n",
    "    - [x] fixing Debye screening lenght\n",
    "    \n",
    "[ ] Plotting non relativistic bremsstrahlung cross section \n",
    "\n",
    "    - [ ] fixing Elwert factor divergence for x approaching 1\n",
    "          (check validity of the hypothesis)\n",
    "          \n",
    "    - [ ] Recover the correct behaviour of sigma without Elwert\n",
    "\n",
    "---- Experiment with git hub ----"
   ]
  },
  {
   "cell_type": "code",
   "execution_count": 3,
   "id": "4215b992",
   "metadata": {},
   "outputs": [],
   "source": [
    "import numpy as np\n",
    "from matplotlib import pyplot as plt\n",
    "from numba import njit\n",
    "#import panda as pd\n",
    "\n",
    "#Constants\n",
    "e_0 = 8.854*10**(-12) # F/m\n",
    "hbar = 1.054*10**(-34) # J*s\n",
    "m = 9.109*10**(-31) # kg ; 'm' it's electorn mass (untill further masses appear)\n",
    "e = 1.602*10**(-19) # C\n",
    "k_b = 1.380*10**(-23) # J/K\n",
    "c = 2.997*10**(8) #m/s\n",
    "r_e = (e**2)/(4*np.pi*e_0*m*c**2) #m\n",
    "alpha_f = (e**2)/(4*np.pi*e_0*hbar*c)\n",
    "n_Cu = 8.5*10**28 #m^(-3)\n",
    "Z = 29 #Copper"
   ]
  },
  {
   "cell_type": "markdown",
   "id": "a43fe269",
   "metadata": {},
   "source": [
    "# Thomas Fermi Potential"
   ]
  },
  {
   "cell_type": "markdown",
   "id": "1290a6f1",
   "metadata": {},
   "source": [
    "An example of a model of Coulomb interaction accounting for the shielding of bound electrons is a Yukawa potential with Thomas-Fermi length ($ L_{TF}$) as screening length.\n",
    "\n",
    "$$ V_{TF}(r) = \\frac{Ze}{4 \\pi \\epsilon_{0}} exp(-r/L_{FT})$$\n",
    "\n",
    "$$ L_{TF} = 4 \\pi \\epsilon_{0} \\frac{\\hbar^2}{m e^{2}}Z^{-1/3}$$"
   ]
  },
  {
   "cell_type": "code",
   "execution_count": 4,
   "id": "45ff2241",
   "metadata": {},
   "outputs": [
    {
     "name": "stdout",
     "output_type": "stream",
     "text": [
      "1.7209524802394428e-11\n"
     ]
    }
   ],
   "source": [
    "#Thomas Fermi screening length in Copper\n",
    "def TF_length(Z):\n",
    "    L_TF = 4*np.pi*e_0*((hbar**2)/(m*e**2))*(Z**(-1/3))\n",
    "    return L_TF\n",
    "\n",
    "print(TF_length(Z))"
   ]
  },
  {
   "cell_type": "markdown",
   "id": "ce6df394",
   "metadata": {},
   "source": [
    "# Debye Potential"
   ]
  },
  {
   "cell_type": "markdown",
   "id": "8fa63c61",
   "metadata": {},
   "source": [
    "A way to take into count the screening of free electrons and plasma ions is give by the following Yukawa potential with Debuy length ($L_{D}$) as screening length.\n",
    "\n",
    "$$ V_{D}(r) = \\frac{Ze}{4 \\pi \\epsilon_{0}} exp(-r/L_{D})$$\n",
    "\n",
    "$$ L_{D} = \\sqrt{\\frac{\\epsilon_{0}k_{B} T}{e^{2}n_{i}Z^{\\ast} (Z^{\\ast} +1)}} $$"
   ]
  },
  {
   "cell_type": "code",
   "execution_count": 5,
   "id": "7055ae67",
   "metadata": {
    "scrolled": true
   },
   "outputs": [
    {
     "name": "stdout",
     "output_type": "stream",
     "text": [
      "8.675309082032782e-10\n",
      "2.7433736105168113e-10\n"
     ]
    }
   ],
   "source": [
    "#Density of the copper plasma (we will use it as ion density) n_i = N_Cu = 8.5*10**28 m^(-3) #computed\n",
    "# Zstar is the degree of ionization\n",
    "# T_i is plasma temperature\n",
    "\n",
    "#Debye screening Length\n",
    "def Debye_length(T,n_i,Zstar):\n",
    "    L_d = np.sqrt((e_0*k_b*T)/((e**2)*n_i*Zstar*(Zstar + 1)))\n",
    "    return L_d\n",
    "\n",
    "#Expected values for different plasma temperatures \n",
    "# (hypothesis: T_i = T_e) [E [eV] = k_b [eV/K]*T [K]]\n",
    "# 100 KeV --> L_d = 9*10**(-10)  [10**(5)/(8.617*10**(-5)) = 1.169*10**10 K]\n",
    "# 10 KeV --> L_d = 3*10**(-10)  [10**(4)/(8.617*10**(-5)) = 1.169*10**9 K]\n",
    "T_p100 = 1.169*10**10    #Plasma temperature in K [100 KeV]\n",
    "T_p10 = 1.169*10**9    #Plasma temperature in K [10 KeV]\n",
    "\n",
    "print(Debye_length(T_p100,n_Cu,Z)) #100 KeV\n",
    "print(Debye_length(T_p10,n_Cu,Z)) #10 KeV"
   ]
  },
  {
   "cell_type": "markdown",
   "id": "a35553f1",
   "metadata": {},
   "source": [
    "# r_max"
   ]
  },
  {
   "cell_type": "markdown",
   "id": "70e32167",
   "metadata": {},
   "source": [
    "Before combining the two potential in a single one ($V_{TFD}$), let's look at the most relevant impact parameter ($r_{max}$) , so the one that contribute the most to the integral in the expression of the density matrix element that links our initial and final state (see r_max document for a better expeination), as function of the electron energy before collision."
   ]
  },
  {
   "cell_type": "code",
   "execution_count": 6,
   "id": "e3ab3c87",
   "metadata": {},
   "outputs": [],
   "source": [
    "#Math function for the most relevant impact parameter here called \"r_max\"\n",
    "def Max_Impact_param(gamma_1, k):\n",
    "    gamma_2 = gamma_1 - k             #Energy conservation\n",
    "    P_1 = np.sqrt(gamma_1**2 -1)      #normalized momentum BEFORE coll\n",
    "    P_2 = np.sqrt(gamma_2**2 -1)      #normalized momentum AFTER coll\n",
    "    r_max = hbar/((m*c)*(P_1 - P_2 - k))\n",
    "    return r_max"
   ]
  },
  {
   "cell_type": "code",
   "execution_count": 7,
   "id": "3ba7e263",
   "metadata": {},
   "outputs": [
    {
     "name": "stdout",
     "output_type": "stream",
     "text": [
      "1.2657808753494068e-10\n"
     ]
    }
   ],
   "source": [
    "#Checking values for a = 0.1\n",
    "gamma_1 = 1.002\n",
    "a = 0.1 #fraction of the electron energy\n",
    "k = a*(gamma_1 - 1)\n",
    "r_max = Max_Impact_param(gamma_1, k)\n",
    "print(r_max)"
   ]
  },
  {
   "cell_type": "code",
   "execution_count": 8,
   "id": "8afdc91f",
   "metadata": {
    "scrolled": false
   },
   "outputs": [
    {
     "data": {
      "text/plain": [
       "<matplotlib.legend.Legend at 0x1e4c9921eb0>"
      ]
     },
     "execution_count": 8,
     "metadata": {},
     "output_type": "execute_result"
    },
    {
     "data": {
      "image/png": "[encoded data removed]",
      "text/plain": [
       "<Figure size 360x288 with 1 Axes>"
      ]
     },
     "metadata": {
      "needs_background": "light"
     },
     "output_type": "display_data"
    }
   ],
   "source": [
    "#PLOT OF r_max for a = 0.1/0.5/0.9 ( k = a*(gamma_1 - 1))\n",
    "\n",
    "# 6 decades of electron energy evenly spaced logarithmically             \n",
    "x_1 = np.logspace(-3,3,1000)                # x_1 = gamma_1 - 1                                  \n",
    "y_1 = Max_Impact_param(x_1 + 1, 0.1*x_1)    # k = 0.1*(gamma_1 - 1)\n",
    "y_2 = Max_Impact_param(x_1 + 1, 0.5*x_1)    # k = 0.5*(gamma_1 - 1)\n",
    "y_3 = Max_Impact_param(x_1 + 1, 0.9*x_1)    # k = 0.9*(gamma_1 - 1)\n",
    "\n",
    "fig_1 = plt.figure(figsize=(5,4))\n",
    "\n",
    "axes_1 = fig_1.add_axes([0.1,0.1,0.9,0.9])\n",
    "axes_1.set_xlabel('$\\gamma_1$ - 1')\n",
    "axes_1.set_ylabel('r_max [m]')\n",
    "axes_1.set_title('Most relevant impact parameter')\n",
    "\n",
    "#axes_1.plot(x_1,y_1,label='0.1',marker='o', markeredgecolor='b')\n",
    "axes_1.plot(x_1,y_1,label='0.1')\n",
    "axes_1.plot(x_1,y_2,label='0.5')\n",
    "axes_1.plot(x_1,y_3,label='0.9')\n",
    "\n",
    "y_F = np.full(len(x_1),TF_length(Z))\n",
    "y_D10 = np.full(len(x_1),Debye_length(T_p10,n_Cu,Z))\n",
    "y_D100 = np.full(len(x_1),Debye_length(T_p100,n_Cu,Z))\n",
    "\n",
    "axes_1.plot(x_1,y_F,color='r')\n",
    "axes_1.plot(x_1,y_D10,ls='-.',color='navy')\n",
    "axes_1.plot(x_1,y_D100,ls='-.',color='navy')\n",
    "\n",
    "axes_1.loglog()\n",
    "axes_1.set_xlim(0.001,1000)\n",
    "axes_1.set_ylim(10**(-12),2*10**(-9))\n",
    "axes_1.legend(loc=0)\n"
   ]
  },
  {
   "cell_type": "markdown",
   "id": "6fb75fdf",
   "metadata": {},
   "source": [
    "The plot reproduce the behaviour of r_max as expected.\n",
    "\n",
    "N.B. The two valuse of $L_d$ are computed for the limiting case Kstar = K so for a fully ionized potential, in general for partially ionized regions we can expect bigger $L_d$s."
   ]
  },
  {
   "cell_type": "markdown",
   "id": "77afda53",
   "metadata": {},
   "source": [
    "# $\\frac{d \\sigma}{dk}$ in non-relativistic regime "
   ]
  },
  {
   "cell_type": "markdown",
   "id": "f5de960a",
   "metadata": {},
   "source": [
    "The nonrelativistic (NR) electron ($1 < \\gamma_{1} \\leq 2 $) Bremsstrahlung cross section, differential\n",
    "in the photon energy, reads in the Born approximation:\n",
    "\n",
    "$$ \\frac{d \\sigma_{NR}}{dk} = \\frac{64 \\pi^{4} r_{e}^2 \\alpha_{f}}{3 k p_{1}^{2}} \\int^{\\delta p_{+}}_{\\delta p_{-}} |\\tilde{V}_{TFD}(u)|^{2} u^{3} du $$\n",
    "\n",
    "Where $r_{e}$ is the classical electron radius, $\\delta p_{+} = p_{1} + p_{2}$ and $ \\delta p_{-} = p_{1} - p_{2}$.\n",
    "\n",
    "\n",
    "We have introduced $\\tilde{V}_{TFD}$, the Fourier transform of the screened atomic potential $V_{TFD}$:\n",
    "\n",
    "$$ \\tilde{V}_{TFD}(u) = \\frac{1}{(2 \\pi)^{3}} \\int_{\\Omega} V_{TFD} (\\mathbf{r})exp(i \\mathbf{u}\\cdot \\mathbf{r}) d^{3}r$$\n",
    "\n",
    "$V_{TFD}$ is the result of a weighted sum of Thomas-Fermi and Debye potential using the degree of Ionization as parameter that decide which of the two screening effect is the most relevant. $V_{TFD}$ takes the form:\n",
    "\n",
    "$$ V_{TFD}(r) = \\Big(1-\\frac{Z^{*}}{Z}\\Big)V_{TF}(r) + \\frac{Z^{*}}{Z}V_{D}(r) $$\n",
    "\n",
    "Combining all the formulas above we get a closed but complicate expression for the differential non relativistic cross section:\n",
    "\n",
    "$$ \\frac{d \\sigma_{NR}}{dk} = \\frac{16 r_{e}^{2}Z^{2} \\alpha_{f}}{3k p^{2}_{1}} \\big[ g(\\delta p_{+}, \\delta p_{-},\\zeta_{F}, L_{F}) + g(\\delta p_{+}, \\delta p_{-},\\zeta_{D}, L_{D}) + \\Gamma_{c} \\big] $$\n",
    " \n",
    "where $\\zeta_{TF} = 1 - Z^{*}/Z$ and $\\zeta_{D} = Z^{*}/Z $ are the Thomas Fermi and Debye effective charges. The lengths l, $L_{F}$ and $L_{D}$ are normalized by the classical electron radius $r_{e}$.\n",
    "The g function and the coupling function ($\\Gamma_{c}$) are:\n",
    "\n",
    "$$ g(\\delta p_{+}, \\delta p_{-}, \\zeta, l) = \\frac{\\zeta^{2}}{2} \\Big[ ln \\Big( \\frac{\\delta p^{2}_{+}l^{2} + 1}{\\delta p^{2}_{-}l^{2} + 1} \\Big) + \\frac{1}{\\delta p^{2}_{+}l^{2} + 1} - \\frac{1}{\\delta p^{2}_{-}l^{2} + 1} \\Big] $$ \n",
    "\n",
    "$$ \\Gamma_{c} = \\frac{\\zeta_{F} \\zeta_{D}}{L_{D}^{2} - L_{F}^{2}} \\Big[ L_{F}^{2} ln \\Big( \\frac{\\delta p^{2}_{-}L_{D}^{2} + 1}{\\delta p^{2}_{+}L_{D}^{2} + 1} \\Big) + L_{D}^{2} ln \\Big( \\frac{\\delta p^{2}_{+}L_{F}^{2} + 1}{\\delta p^{2}_{-}L_{F}^{2} + 1} \\Big) \\Big] $$"
   ]
  },
  {
   "cell_type": "code",
   "execution_count": 40,
   "id": "f52c2bd5",
   "metadata": {},
   "outputs": [],
   "source": [
    "#Reminder for the cross section plots:\n",
    "#let's plot differential sigma for the following values of the system parameter (as function of photon's normalized energy)\n",
    "# E = 1 KeV ; E = 100 KeV                     E = (gamma_1 -1)*m*c^2 energy of the incoming electron \n",
    "# Zstar = Z ; Zstar = 1 ; Zstar = 10*(-10)    let's check the two limits of fully ionized (plasma) and neutral gas\n",
    "# T_p10 ; T_p100                              the two different plasma temperatures at which we computed L_D\n"
   ]
  },
  {
   "cell_type": "code",
   "execution_count": 41,
   "id": "eb38bd89",
   "metadata": {},
   "outputs": [],
   "source": [
    "#COUPLING FUNCTION (depending on (gamma_1,gamma_2) or (gamma_1,k)) \n",
    "def Gamma_coupling(gamma_1,k,Zstar,T_p):\n",
    "    L_D = Debye_length(T_p,n_Cu,Z)/r_e\n",
    "    L_F = TF_length(Z)/r_e\n",
    "    gamma_2 = gamma_1 - k         #energy conservation\n",
    "    P_1 = np.sqrt(gamma_1**2 -1)  #normalized momentum BEFORE coll\n",
    "    P_2 = np.sqrt(gamma_2**2 -1)  #normalized momentum AFTER coll\n",
    "    dp_plus = (P_1 + P_2)     #maximum momentum transfered\n",
    "    dp_minus = (P_1 - P_2)    #minimum momentum transfered\n",
    "    zeta_F = 1-Zstar/Z     \n",
    "    zeta_D = Zstar/Z\n",
    "    \n",
    "    Gamma_c = ((zeta_F*zeta_D)/(L_D**2 - L_F**2))*((L_F**2)*np.log(((dp_minus**2)*(L_D**2) + 1)/((dp_plus**2)*(L_D**2) + 1))\\\n",
    "              + (L_D**2)*np.log(((dp_plus**2)*(L_F**2) + 1)/((dp_minus**2)*(L_F**2) + 1)))                                   \n",
    "    return Gamma_c"
   ]
  },
  {
   "cell_type": "code",
   "execution_count": 56,
   "id": "afa82b08",
   "metadata": {},
   "outputs": [],
   "source": [
    "# g-FUNCTION (depending on (gamma_1,gamma_2) or (gamma_1,k))\n",
    "def g_function(gamma_1,k,zeta,L):\n",
    "    gamma_2 = gamma_1 - k         #energy conservation\n",
    "    P_1 = np.sqrt(gamma_1**2 -1)  #normalized momentum BEFORE coll\n",
    "    P_2 = np.sqrt(gamma_2**2 -1)  #normalized momentum AFTER coll\n",
    "    dp_plus = (P_1 + P_2)     #maximum momentum transfered\n",
    "    dp_minus = (P_1 - P_2)    #minimum momentum transfered\n",
    "\n",
    "    g = (zeta**2/2)*(np.log(((dp_plus**2)*(L**2) + 1)/((dp_minus**2)*(L**2)+1))\\\n",
    "                     + 1/((dp_plus**2)*(L**2) + 1) - 1/((dp_minus**2)*(L**2) + 1))\n",
    "    return g"
   ]
  },
  {
   "cell_type": "markdown",
   "id": "d33af886",
   "metadata": {},
   "source": [
    "$\\mathbf{IMPORTANT:}$ Since we want to recover Bertrand's plot for $k\\frac{d \\sigma}{dk}$ in the function below the \"k\" appearing in the differential cross section prefactor is removed"
   ]
  },
  {
   "cell_type": "code",
   "execution_count": 43,
   "id": "0eb6d876",
   "metadata": {},
   "outputs": [],
   "source": [
    "#Non relativistic bremsstrahlung cross section WITHOUT Elwert correction\n",
    "def k_sigma_NR(E,k,Zstar,T_p):\n",
    "    L_D = Debye_length(T_p,n_Cu,Z)/r_e\n",
    "    L_F = TF_length(Z)/r_e\n",
    "    zeta_F = 1 - Zstar/Z\n",
    "    zeta_D = Zstar/Z\n",
    "    const = E/(m*c**2)                           #here we get gamma_1 from E\n",
    "    #gamma_1 = np.full(len(k),const+1)\n",
    "    gamma_1 = const +1\n",
    "    p_1 = m*c*np.sqrt(gamma_1**2 -1)             #physical electron momentum (needed in the prefactor)\n",
    "    b = (16*(r_e**2)*(Z**2)*alpha_f)/(3*p_1**2) #cross section prefactor \n",
    "    \n",
    "    #SINCE WE PLOT k*sigma we multiply b by k\n",
    "    #bwk = k*b\n",
    "    \n",
    "    k_sigma = b*(g_function(gamma_1,k,zeta_F,L_F) + g_function(gamma_1,k,zeta_D,L_D) + Gamma_coupling(gamma_1,k,Zstar,T_p))\n",
    "    return k_sigma "
   ]
  },
  {
   "cell_type": "code",
   "execution_count": null,
   "id": "bbadc847",
   "metadata": {},
   "outputs": [],
   "source": []
  },
  {
   "cell_type": "code",
   "execution_count": 66,
   "id": "16d9671e",
   "metadata": {
    "scrolled": true
   },
   "outputs": [
    {
     "name": "stdout",
     "output_type": "stream",
     "text": [
      "0.001958025411273434\n",
      "[0.0001     0.00016407 0.00022814 0.00029221 0.00035628 0.00042035\n",
      " 0.00048442 0.00054849 0.00061256 0.00067663 0.0007407  0.00080477\n",
      " 0.00086884 0.00093291 0.00099698 0.00106105 0.00112512 0.00118919\n",
      " 0.00125326 0.00131733 0.0013814  0.00144547 0.00150954 0.00157361\n",
      " 0.00163768 0.00170175 0.00176582 0.00182989 0.00189396 0.00195803]\n",
      "1.602e-16 29 1169000000.0\n",
      "0.0001 3.861446821153785e+18\n",
      "0.00016406984176804945 3.405125705568375e+18\n",
      "0.0002281396835360989 3.0956685008878607e+18\n",
      "0.00029220952530414836 2.8589402346552233e+18\n",
      "0.0003562793670721978 2.665633953985076e+18\n",
      "0.00042034920884024727 2.501115682268083e+18\n",
      "0.0004844190506082967 2.3570063184015037e+18\n",
      "0.0005484888923763462 2.2280480271901325e+18\n",
      "0.0006125587341443957 2.1107147109978783e+18\n",
      "0.0006766285759124452 2.0025172498480074e+18\n",
      "0.0007406984176804946 1.901623939147527e+18\n",
      "0.000804768259448544 1.806638311430263e+18\n",
      "0.0008688381012165935 1.716461526221099e+18\n",
      "0.000932907942984643 1.63020286101456e+18\n",
      "0.0009969777847526923 1.5471187573905953e+18\n",
      "0.0010610476265207418 1.4665692904316221e+18\n",
      "0.0011251174682887913 1.3879853160854807e+18\n",
      "0.0011891873100568408 1.310841880412017e+18\n",
      "0.0012532571518248904 1.2346346463362363e+18\n",
      "0.0013173269935929397 1.158856494050427e+18\n",
      "0.0013813968353609892 1.0829711572565407e+18\n",
      "0.0014454666771290387 1.0063795448984694e+18\n",
      "0.001509536518897088 9.283715360699681e+17\n",
      "0.0015736063606651375 8.480496010750592e+17\n",
      "0.001637676202433187 7.641953129677907e+17\n",
      "0.0017017460442012365 6.750093774542853e+17\n",
      "0.001765815885969286 5.775304319480384e+17\n",
      "0.0018298857277373353 4.660432756282418e+17\n",
      "0.0018939555695053848 3.25807071684356e+17\n",
      "0.001958025411273434 0.0\n",
      "[3.86175763e+18 3.40523954e+18 3.09572637e+18 2.85897487e+18\n",
      " 2.66565680e+18 2.50113177e+18 2.35701818e+18 2.22805707e+18\n",
      " 2.11072180e+18 2.00252292e+18 1.90162855e+18 1.80664211e+18\n",
      " 1.71646470e+18 1.63020553e+18 1.54712102e+18 1.46657122e+18\n",
      " 1.38798697e+18 1.31084330e+18 1.23463587e+18 1.15885755e+18\n",
      " 1.08297207e+18 1.00638033e+18 9.28372210e+17 8.48050176e+17\n",
      " 7.64195797e+17 6.75009779e+17 5.77530755e+17 4.66043521e+17\n",
      " 3.25807234e+17 0.00000000e+00]\n"
     ]
    },
    {
     "data": {
      "image/png": "[encoded data removed]",
      "text/plain": [
       "<Figure size 360x288 with 1 Axes>"
      ]
     },
     "metadata": {
      "needs_background": "light"
     },
     "output_type": "display_data"
    }
   ],
   "source": [
    "#PLOT E = 1 KeV without Elwert correction\n",
    "E = e*10**3    #J\n",
    "gamma_1 =  E/(m*c**2) + 1\n",
    "k = np.linspace(0.0001,gamma_1 -1.0000,30) #ranging k so x_1 spans [0,1] but 0 gives divergence in b\n",
    "print(gamma_1 -1.000)\n",
    "print(k)\n",
    "print(E,Z,T_p10)\n",
    "for i in k: \n",
    "    print(i,k_sigma_NR(E,i,Z-1,T_p10))\n",
    "    \n",
    "x_1 = k/(gamma_1 - 1)              #normalized photon energy\n",
    "y_1 = k_sigma_NR(E,k,Z,T_p10)           # E=1 eV ; Zstar=Z ; T_p=10 KeV   IMPORTANT !! WE'RE PLOTTING k*sigma not just sigma\n",
    "#y_2 = k_sigma_NR(E,k,Z,T_p100)          # E=1 eV ; Zstar=Z ; T_p=100 KeV\n",
    "\n",
    "print(y_1)\n",
    "\n",
    "fig_2 = plt.figure(figsize=(5,4))\n",
    "\n",
    "axes_2 = fig_2.add_axes([0.1,0.1,0.9,0.9])\n",
    "axes_2.set_xlabel('k/($\\gamma_1$ - 1)')\n",
    "axes_2.set_ylabel('k*diff_sigma')\n",
    "axes_2.set_title('Non relativistic Cross-section')\n",
    "axes_2.plot(x_1,y_1,label='1 KeV')\n",
    "axes_2.set_xlim(0,1)\n",
    "#axes_2.set_ylim(0,6*10**(-25))\n",
    "axes_2.grid(True, color='0.6', dashes=(5, 2, 1, 2))"
   ]
  },
  {
   "cell_type": "code",
   "execution_count": null,
   "id": "b289fbe7",
   "metadata": {},
   "outputs": [],
   "source": [
    "################################"
   ]
  },
  {
   "cell_type": "code",
   "execution_count": null,
   "id": "a12e6a6d",
   "metadata": {},
   "outputs": [],
   "source": []
  },
  {
   "cell_type": "code",
   "execution_count": 72,
   "id": "57178827",
   "metadata": {},
   "outputs": [
    {
     "name": "stdout",
     "output_type": "stream",
     "text": [
      "[2.84650160e+15 6.42300767e+16 1.25766423e+17 1.87603747e+17\n",
      " 2.49894623e+17 3.12798324e+17 3.76483416e+17 4.41130700e+17\n",
      " 5.06936671e+17 5.74117648e+17 6.42914817e+17 7.13600515e+17\n",
      " 7.86486195e+17 8.61932693e+17 9.40363730e+17 1.02228397e+18\n",
      " 1.10830374e+18 1.19917349e+18 1.29583338e+18 1.39948628e+18\n",
      " 1.51170950e+18 1.63463238e+18 1.77123312e+18 1.92586588e+18\n",
      " 2.10527267e+18 2.32073884e+18 2.59340901e+18 2.97073808e+18\n",
      " 3.60411988e+18 7.93771385e+18]\n"
     ]
    },
    {
     "data": {
      "text/plain": [
       "[]"
      ]
     },
     "execution_count": 72,
     "metadata": {},
     "output_type": "execute_result"
    },
    {
     "data": {
      "image/png": "[encoded data removed]",
      "text/plain": [
       "<Figure size 360x288 with 1 Axes>"
      ]
     },
     "metadata": {
      "needs_background": "light"
     },
     "output_type": "display_data"
    }
   ],
   "source": [
    "#PLOT E = 1 KeV without Elwert correction\n",
    "E = e*10**3    #J\n",
    "gamma_1 =  E/(m*c**2) + 1\n",
    "k = np.linspace(0.0001,gamma_1 -1.0000,30) #ranging k so x_1 spans [0,1] but 0 gives divergence in b\n",
    "p_2 = np.linspace(0.0001,np.sqrt(gamma_1**2 -1),30)\n",
    "\n",
    "x_1 = p_2/(np.sqrt(gamma_1**2 -1))\n",
    "var = gamma_1 - np.sqrt(p_2**2 +1)\n",
    "#x_1 = k/(gamma_1 - 1)              #normalized photon energy\n",
    "y_1 = k_sigma_NR(E,var,Z,T_p10)           # E=1 eV ; Zstar=Z ; T_p=10 KeV   IMPORTANT !! WE'RE PLOTTING k*sigma not just sigma\n",
    "#y_2 = k_sigma_NR(E,k,Z,T_p100)          # E=1 eV ; Zstar=Z ; T_p=100 KeV\n",
    "\n",
    "print(y_1)\n",
    "\n",
    "fig_2 = plt.figure(figsize=(5,4))\n",
    "\n",
    "axes_2 = fig_2.add_axes([0.1,0.1,0.9,0.9])\n",
    "axes_2.set_xlabel('k/($\\gamma_1$ - 1)')\n",
    "axes_2.set_ylabel('k*diff_sigma')\n",
    "axes_2.set_title('Non relativistic Cross-section')\n",
    "axes_2.plot(x_1,y_1,label='1 KeV')\n",
    "axes_2.plot(x_1,x_1*10**(16),label='parallel')\n",
    "#axes_2.set_xlim(0,1)\n",
    "#axes_2.set_ylim(0,6*10**(-25))\n",
    "axes_2.grid(True, color='0.6', dashes=(5, 2, 1, 2))\n",
    "axes_2.loglog()"
   ]
  },
  {
   "cell_type": "markdown",
   "id": "781eed50",
   "metadata": {},
   "source": [
    "# Elwert correction"
   ]
  },
  {
   "cell_type": "markdown",
   "id": "02d954fe",
   "metadata": {},
   "source": [
    "\n",
    "\n",
    "$$ f_{E} = \\frac{\\beta_{1}}{\\beta_{2}} \\frac{1 - exp(-2 \\pi Z \\alpha_{f} / \\beta_{1})}{1 - exp(-2 \\pi Z \\alpha_{f} / \\beta_{2})} $$\n",
    "\n",
    "usefull relation: $ p_i = \\gamma_i m \\beta_{i} c$"
   ]
  },
  {
   "cell_type": "code",
   "execution_count": 60,
   "id": "5b7d9271",
   "metadata": {},
   "outputs": [],
   "source": [
    "# ELWERT CORRECTION \n",
    "def f_E(gamma_1,k):\n",
    "    gamma_2 = gamma_1 - k\n",
    "    P_1 = np.sqrt(gamma_1**2 -1)  #normalized momentum BEFORE coll\n",
    "    P_2 = np.sqrt(gamma_2**2 -1)  #normalized momentum AFTER coll\n",
    "    b_1 = P_1/gamma_1\n",
    "    b_2 = P_2/gamma_2\n",
    "    f = (b_1/b_2)*((1-np.exp((-2*np.pi*Z*alpha_f)/b_1))/(1-np.exp((-2*np.pi*Z*alpha_f)/b_2)))\n",
    "    return f\n",
    "        "
   ]
  },
  {
   "cell_type": "code",
   "execution_count": null,
   "id": "1434c496",
   "metadata": {},
   "outputs": [],
   "source": []
  },
  {
   "cell_type": "code",
   "execution_count": 65,
   "id": "df957c7f",
   "metadata": {
    "scrolled": true
   },
   "outputs": [
    {
     "name": "stderr",
     "output_type": "stream",
     "text": [
      "<ipython-input-60-7b28c1ab58e2>:8: RuntimeWarning: divide by zero encountered in true_divide\n",
      "  f = (b_1/b_2)*((1-np.exp((-2*np.pi*Z*alpha_f)/b_1))/(1-np.exp((-2*np.pi*Z*alpha_f)/b_2)))\n",
      "<ipython-input-65-035a8e244f94>:6: RuntimeWarning: invalid value encountered in multiply\n",
      "  y_1 = f_E(gamma_1,k)*k_sigma_NR(E,k,Z,T_p10) # E=1 eV ; Zstar=Z ; T_p=10 KeV   IMPORTANT !! WE'RE PLOTTING k*sigma_NR()\n"
     ]
    },
    {
     "data": {
      "image/png": "[encoded data removed]",
      "text/plain": [
       "<Figure size 360x288 with 1 Axes>"
      ]
     },
     "metadata": {
      "needs_background": "light"
     },
     "output_type": "display_data"
    }
   ],
   "source": [
    "#PLOT E = 1 KeV without Elwert correction\n",
    "E = e*10**3    #J\n",
    "gamma_1 =  E/(m*c**2) + 1\n",
    "k = np.linspace(0.0001,gamma_1 -1,1000) #ranging k so x_1 spans [0,1] but 0 gives divergence in b\n",
    "x_1 = k/(gamma_1 - 1)              #normalized photon energy\n",
    "y_1 = f_E(gamma_1,k)*k_sigma_NR(E,k,Z,T_p10) # E=1 eV ; Zstar=Z ; T_p=10 KeV   IMPORTANT !! WE'RE PLOTTING k*sigma_NR()\n",
    "#y_2 = f_E(gamma_1,k)*sigma_NR(E,k,Z,T_p100)                # E=1 eV ; Zstar=Z ; T_p=10 KeV\n",
    "\n",
    "fig_2 = plt.figure(figsize=(5,4))\n",
    "\n",
    "axes_2 = fig_2.add_axes([0.1,0.1,0.9,0.9])\n",
    "axes_2.set_xlabel('k/($\\gamma_1$ - 1)')\n",
    "axes_2.set_ylabel('k*diff_sigma')\n",
    "axes_2.set_title('Non relativistic Cross-section')\n",
    "axes_2.plot(x_1,y_1,label='1 KeV')\n",
    "axes_2.plot(x_1,y_1*0)\n",
    "#axes_2.set_xlim(0,1)\n",
    "#axes_2.set_ylim(0,6*10**(-25))\n",
    "axes_2.grid(True, color='0.6', dashes=(5, 2, 1, 2))"
   ]
  },
  {
   "cell_type": "markdown",
   "id": "c8769892",
   "metadata": {},
   "source": [
    "It diverge for $k/(\\gamma_{1} -1)$ approacing 1. that's because for those valuse of k, $\\beta_{2} = P_{2}/\\gamma_{2}$ tends to zero so the Elwert factor diverge. This because the Hypothesis for the Elwert factor to be used are not satisfied for $k/(\\gamma_{1} -1)$ approacing 1.\n",
    "\n",
    "Bertrand points out that Elwert factor can be used in Born approximation if:\n",
    "\n",
    "$$Z \\alpha (1/\\beta_{2} - 1/\\beta_{1}) \\ll 1$$\n",
    "\n",
    "But Haug & Nakel's book on Bremsstrahlung prescribe:\n",
    "\n",
    "$$\\frac{Z \\alpha}{\\beta_{2}} \\ll 1 \\quad and  \\quad \\frac{Z \\alpha}{\\beta_{1}} \\ll 1 $$"
   ]
  },
  {
   "cell_type": "code",
   "execution_count": 207,
   "id": "725c1563",
   "metadata": {},
   "outputs": [
    {
     "name": "stdout",
     "output_type": "stream",
     "text": [
      "1.7092047483219016e-23\n",
      "1.0019580254112734\n"
     ]
    }
   ],
   "source": [
    "#CHECKING VALUES\n",
    "E = e*10**(3) #J\n",
    "gamma_1 = E/(m*c**2) + 1\n",
    "p_1 = m*c*np.sqrt(gamma_1**2 -1)\n",
    "print(p_1)\n",
    "print(gamma_1)"
   ]
  }
 ],
 "metadata": {
  "kernelspec": {
   "display_name": "Python 3",
   "language": "python",
   "name": "python3"
  },
  "language_info": {
   "codemirror_mode": {
    "name": "ipython",
    "version": 3
   },
   "file_extension": ".py",
   "mimetype": "text/x-python",
   "name": "python",
   "nbconvert_exporter": "python",
   "pygments_lexer": "ipython3",
   "version": "3.8.8"
  }
 },
 "nbformat": 4,
 "nbformat_minor": 5
}
